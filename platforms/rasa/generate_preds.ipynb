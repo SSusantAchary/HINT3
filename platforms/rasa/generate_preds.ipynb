{
 "cells": [
  {
   "cell_type": "code",
   "execution_count": 1,
   "metadata": {},
   "outputs": [],
   "source": [
    "import pandas as pd\n",
    "import json\n",
    "import requests"
   ]
  },
  {
   "cell_type": "code",
   "execution_count": 2,
   "metadata": {},
   "outputs": [],
   "source": [
    "bot_name = 'curekart'"
   ]
  },
  {
   "cell_type": "code",
   "execution_count": 3,
   "metadata": {},
   "outputs": [],
   "source": [
    "# MAKE SURE RASA SERVER OF {bot_name} IS UP ON  http://localhost:5005/"
   ]
  },
  {
   "cell_type": "code",
   "execution_count": 4,
   "metadata": {},
   "outputs": [],
   "source": [
    "def predict_node_name(text):\n",
    "    data = {\"text\": text}\n",
    "    url = 'http://localhost:5005/model/parse'\n",
    "    response = requests.post(url, data=json.dumps(data))\n",
    "    predicted_node = response.json()['intent']['name']\n",
    "    predicted_node_score = response.json()['intent_ranking'][0]['confidence']\n",
    "    return predicted_node, predicted_node_score"
   ]
  },
  {
   "cell_type": "code",
   "execution_count": 5,
   "metadata": {},
   "outputs": [
    {
     "data": {
      "text/html": [
       "<div>\n",
       "<style scoped>\n",
       "    .dataframe tbody tr th:only-of-type {\n",
       "        vertical-align: middle;\n",
       "    }\n",
       "\n",
       "    .dataframe tbody tr th {\n",
       "        vertical-align: top;\n",
       "    }\n",
       "\n",
       "    .dataframe thead th {\n",
       "        text-align: right;\n",
       "    }\n",
       "</style>\n",
       "<table border=\"1\" class=\"dataframe\">\n",
       "  <thead>\n",
       "    <tr style=\"text-align: right;\">\n",
       "      <th></th>\n",
       "      <th>sentence</th>\n",
       "      <th>label</th>\n",
       "    </tr>\n",
       "  </thead>\n",
       "  <tbody>\n",
       "    <tr>\n",
       "      <th>0</th>\n",
       "      <td>Order my product</td>\n",
       "      <td>ORDER_TAKING</td>\n",
       "    </tr>\n",
       "    <tr>\n",
       "      <th>1</th>\n",
       "      <td>Hy</td>\n",
       "      <td>NO_NODES_DETECTED</td>\n",
       "    </tr>\n",
       "    <tr>\n",
       "      <th>2</th>\n",
       "      <td>I want to order Wottle sensitive handwash refill</td>\n",
       "      <td>RECOMMEND_PRODUCT</td>\n",
       "    </tr>\n",
       "    <tr>\n",
       "      <th>3</th>\n",
       "      <td>have u started C D provision for pin code 702164</td>\n",
       "      <td>CHECK_PINCODE</td>\n",
       "    </tr>\n",
       "    <tr>\n",
       "      <th>4</th>\n",
       "      <td>How do I know it will deliver in my place</td>\n",
       "      <td>NO_NODES_DETECTED</td>\n",
       "    </tr>\n",
       "  </tbody>\n",
       "</table>\n",
       "</div>"
      ],
      "text/plain": [
       "                                           sentence              label\n",
       "0                                  Order my product       ORDER_TAKING\n",
       "1                                                Hy  NO_NODES_DETECTED\n",
       "2  I want to order Wottle sensitive handwash refill  RECOMMEND_PRODUCT\n",
       "3  have u started C D provision for pin code 702164      CHECK_PINCODE\n",
       "4         How do I know it will deliver in my place  NO_NODES_DETECTED"
      ]
     },
     "execution_count": 5,
     "metadata": {},
     "output_type": "execute_result"
    }
   ],
   "source": [
    "test_file_name = bot_name if '_subset' not in bot_name else bot_name.replace('_subset', '')\n",
    "df_test = pd.read_csv(f'../../test/{test_file_name}_test.csv')\n",
    "df_test.head()"
   ]
  },
  {
   "cell_type": "code",
   "execution_count": 6,
   "metadata": {},
   "outputs": [
    {
     "data": {
      "text/plain": [
       "(991, 2)"
      ]
     },
     "execution_count": 6,
     "metadata": {},
     "output_type": "execute_result"
    }
   ],
   "source": [
    "df_test.shape"
   ]
  },
  {
   "cell_type": "code",
   "execution_count": 7,
   "metadata": {},
   "outputs": [
    {
     "data": {
      "text/plain": [
       "('ORDER_QUERY', 0.31236547231674194)"
      ]
     },
     "execution_count": 7,
     "metadata": {},
     "output_type": "execute_result"
    }
   ],
   "source": [
    "predict_node_name('Order my product')"
   ]
  },
  {
   "cell_type": "code",
   "execution_count": 8,
   "metadata": {},
   "outputs": [
    {
     "data": {
      "text/html": [
       "<div>\n",
       "<style scoped>\n",
       "    .dataframe tbody tr th:only-of-type {\n",
       "        vertical-align: middle;\n",
       "    }\n",
       "\n",
       "    .dataframe tbody tr th {\n",
       "        vertical-align: top;\n",
       "    }\n",
       "\n",
       "    .dataframe thead th {\n",
       "        text-align: right;\n",
       "    }\n",
       "</style>\n",
       "<table border=\"1\" class=\"dataframe\">\n",
       "  <thead>\n",
       "    <tr style=\"text-align: right;\">\n",
       "      <th></th>\n",
       "      <th>sentence</th>\n",
       "      <th>label</th>\n",
       "      <th>predicted_node</th>\n",
       "      <th>predicted_node_score</th>\n",
       "    </tr>\n",
       "  </thead>\n",
       "  <tbody>\n",
       "    <tr>\n",
       "      <th>0</th>\n",
       "      <td>Order my product</td>\n",
       "      <td>ORDER_TAKING</td>\n",
       "      <td>ORDER_QUERY</td>\n",
       "      <td>0.312366</td>\n",
       "    </tr>\n",
       "    <tr>\n",
       "      <th>1</th>\n",
       "      <td>Hy</td>\n",
       "      <td>NO_NODES_DETECTED</td>\n",
       "      <td>RECOMMEND_PRODUCT</td>\n",
       "      <td>0.866968</td>\n",
       "    </tr>\n",
       "    <tr>\n",
       "      <th>2</th>\n",
       "      <td>I want to order Wottle sensitive handwash refill</td>\n",
       "      <td>RECOMMEND_PRODUCT</td>\n",
       "      <td>RECOMMEND_PRODUCT</td>\n",
       "      <td>0.452898</td>\n",
       "    </tr>\n",
       "    <tr>\n",
       "      <th>3</th>\n",
       "      <td>have u started C D provision for pin code 702164</td>\n",
       "      <td>CHECK_PINCODE</td>\n",
       "      <td>ORDER_STATUS</td>\n",
       "      <td>0.885070</td>\n",
       "    </tr>\n",
       "    <tr>\n",
       "      <th>4</th>\n",
       "      <td>How do I know it will deliver in my place</td>\n",
       "      <td>NO_NODES_DETECTED</td>\n",
       "      <td>RESUME_DELIVERY</td>\n",
       "      <td>0.942246</td>\n",
       "    </tr>\n",
       "  </tbody>\n",
       "</table>\n",
       "</div>"
      ],
      "text/plain": [
       "                                           sentence              label  \\\n",
       "0                                  Order my product       ORDER_TAKING   \n",
       "1                                                Hy  NO_NODES_DETECTED   \n",
       "2  I want to order Wottle sensitive handwash refill  RECOMMEND_PRODUCT   \n",
       "3  have u started C D provision for pin code 702164      CHECK_PINCODE   \n",
       "4         How do I know it will deliver in my place  NO_NODES_DETECTED   \n",
       "\n",
       "      predicted_node  predicted_node_score  \n",
       "0        ORDER_QUERY              0.312366  \n",
       "1  RECOMMEND_PRODUCT              0.866968  \n",
       "2  RECOMMEND_PRODUCT              0.452898  \n",
       "3       ORDER_STATUS              0.885070  \n",
       "4    RESUME_DELIVERY              0.942246  "
      ]
     },
     "execution_count": 8,
     "metadata": {},
     "output_type": "execute_result"
    }
   ],
   "source": [
    "pred_nodes = []\n",
    "pred_scores = []\n",
    "for index, row in df_test.iterrows():\n",
    "    node_name, node_score = predict_node_name(row['sentence'])\n",
    "    pred_nodes.append(node_name)\n",
    "    pred_scores.append(node_score)\n",
    "df_test['predicted_node'] = pred_nodes\n",
    "df_test['predicted_node_score'] = pred_scores\n",
    "df_test.head()"
   ]
  },
  {
   "cell_type": "code",
   "execution_count": 9,
   "metadata": {},
   "outputs": [],
   "source": [
    "df_test.to_csv(f'../../preds/rasa_{bot_name}.csv', index=False)"
   ]
  },
  {
   "cell_type": "code",
   "execution_count": null,
   "metadata": {},
   "outputs": [],
   "source": []
  }
 ],
 "metadata": {
  "kernelspec": {
   "display_name": "Python (py36)",
   "language": "python",
   "name": "py36"
  },
  "language_info": {
   "codemirror_mode": {
    "name": "ipython",
    "version": 3
   },
   "file_extension": ".py",
   "mimetype": "text/x-python",
   "name": "python",
   "nbconvert_exporter": "python",
   "pygments_lexer": "ipython3",
   "version": "3.6.8"
  }
 },
 "nbformat": 4,
 "nbformat_minor": 4
}
