{
 "cells": [
  {
   "cell_type": "code",
   "execution_count": 1,
   "metadata": {},
   "outputs": [],
   "source": [
    "import json\n",
    "from copy import deepcopy\n",
    "import pandas as pd"
   ]
  },
  {
   "cell_type": "code",
   "execution_count": 2,
   "metadata": {},
   "outputs": [],
   "source": [
    "bot_name = 'curekart_subset'"
   ]
  },
  {
   "cell_type": "code",
   "execution_count": 3,
   "metadata": {},
   "outputs": [],
   "source": [
    "INTENT_TEMPLATE = {\n",
    "  \"name\": None,\n",
    "  \"auto\": True,\n",
    "  \"contexts\": [],\n",
    "  \"responses\": [\n",
    "    {\n",
    "      \"resetContexts\": False,\n",
    "      \"action\": \"\",\n",
    "      \"affectedContexts\": [],\n",
    "      \"parameters\": [],\n",
    "      \"messages\": [\n",
    "        {\n",
    "          \"type\": \"0\",\n",
    "          \"title\": \"\",\n",
    "          \"textToSpeech\": \"\",\n",
    "          \"lang\": \"en\",\n",
    "          \"condition\": \"\"\n",
    "        }\n",
    "      ],\n",
    "      \"speech\": []\n",
    "    }\n",
    "  ],\n",
    "  \"priority\": 500000,\n",
    "  \"webhookUsed\": False,\n",
    "  \"webhookForSlotFilling\": False,\n",
    "  \"fallbackIntent\": False,\n",
    "  \"events\": [],\n",
    "  \"conditionalResponses\": [],\n",
    "  \"condition\": \"\",\n",
    "  \"conditionalFollowupEvents\": []\n",
    "}"
   ]
  },
  {
   "cell_type": "code",
   "execution_count": 4,
   "metadata": {},
   "outputs": [],
   "source": [
    "USERSAYS_TEMPLATE = {\n",
    "    \"data\": [\n",
    "        {\n",
    "        \"text\": None,\n",
    "        \"userDefined\": False\n",
    "        }\n",
    "    ],\n",
    "    \"isTemplate\": False,\n",
    "    \"count\": 0,\n",
    "    \"lang\": \"en\",\n",
    "    \"updated\": 0\n",
    "}"
   ]
  },
  {
   "cell_type": "code",
   "execution_count": 5,
   "metadata": {},
   "outputs": [
    {
     "data": {
      "text/html": [
       "<div>\n",
       "<style scoped>\n",
       "    .dataframe tbody tr th:only-of-type {\n",
       "        vertical-align: middle;\n",
       "    }\n",
       "\n",
       "    .dataframe tbody tr th {\n",
       "        vertical-align: top;\n",
       "    }\n",
       "\n",
       "    .dataframe thead th {\n",
       "        text-align: right;\n",
       "    }\n",
       "</style>\n",
       "<table border=\"1\" class=\"dataframe\">\n",
       "  <thead>\n",
       "    <tr style=\"text-align: right;\">\n",
       "      <th></th>\n",
       "      <th>label</th>\n",
       "      <th>sentence</th>\n",
       "    </tr>\n",
       "  </thead>\n",
       "  <tbody>\n",
       "    <tr>\n",
       "      <th>0</th>\n",
       "      <td>RECOMMEND_PRODUCT</td>\n",
       "      <td>I am confused about what to buy since there ar...</td>\n",
       "    </tr>\n",
       "    <tr>\n",
       "      <th>1</th>\n",
       "      <td>RECOMMEND_PRODUCT</td>\n",
       "      <td>I have been trying to maintain a healthy lifes...</td>\n",
       "    </tr>\n",
       "    <tr>\n",
       "      <th>2</th>\n",
       "      <td>RECOMMEND_PRODUCT</td>\n",
       "      <td>Can you help me with building an athletic body...</td>\n",
       "    </tr>\n",
       "    <tr>\n",
       "      <th>3</th>\n",
       "      <td>RECOMMEND_PRODUCT</td>\n",
       "      <td>I need some hair care products since I have be...</td>\n",
       "    </tr>\n",
       "    <tr>\n",
       "      <th>4</th>\n",
       "      <td>RECOMMEND_PRODUCT</td>\n",
       "      <td>I'm here to browse some products because my fr...</td>\n",
       "    </tr>\n",
       "  </tbody>\n",
       "</table>\n",
       "</div>"
      ],
      "text/plain": [
       "               label                                           sentence\n",
       "0  RECOMMEND_PRODUCT  I am confused about what to buy since there ar...\n",
       "1  RECOMMEND_PRODUCT  I have been trying to maintain a healthy lifes...\n",
       "2  RECOMMEND_PRODUCT  Can you help me with building an athletic body...\n",
       "3  RECOMMEND_PRODUCT  I need some hair care products since I have be...\n",
       "4  RECOMMEND_PRODUCT  I'm here to browse some products because my fr..."
      ]
     },
     "execution_count": 5,
     "metadata": {},
     "output_type": "execute_result"
    }
   ],
   "source": [
    "data = pd.read_csv(f'../../train/{bot_name}_train.csv')\n",
    "data.head()"
   ]
  },
  {
   "cell_type": "code",
   "execution_count": 6,
   "metadata": {},
   "outputs": [
    {
     "data": {
      "text/plain": [
       "(413, 2)"
      ]
     },
     "execution_count": 6,
     "metadata": {},
     "output_type": "execute_result"
    }
   ],
   "source": [
    "data.shape"
   ]
  },
  {
   "cell_type": "code",
   "execution_count": 7,
   "metadata": {},
   "outputs": [],
   "source": [
    "!mkdir intents"
   ]
  },
  {
   "cell_type": "code",
   "execution_count": 8,
   "metadata": {},
   "outputs": [
    {
     "name": "stdout",
     "output_type": "stream",
     "text": [
      "413\n"
     ]
    }
   ],
   "source": [
    "all_labels = list(set(data['label']))\n",
    "tc = 0\n",
    "for label in all_labels:\n",
    "    intent_format = deepcopy(INTENT_TEMPLATE)\n",
    "    intent_format['name'] = label\n",
    "    with open(f'intents/{label}.json', 'w') as fp:\n",
    "        json.dump(intent_format, fp)\n",
    "    all_usersays = []\n",
    "    df_relevant = data[data['label']==label]\n",
    "    for sen in list(df_relevant['sentence']):\n",
    "        usersay = deepcopy(USERSAYS_TEMPLATE)\n",
    "        usersay['data'][0]['text'] = sen\n",
    "        all_usersays.append(usersay)\n",
    "    tc += len(all_usersays)\n",
    "    with open(f'intents/{label}_usersays_en.json', 'w') as fp:\n",
    "        json.dump(all_usersays, fp)\n",
    "print(tc)"
   ]
  },
  {
   "cell_type": "code",
   "execution_count": 9,
   "metadata": {},
   "outputs": [],
   "source": [
    "!cp -r agent_template/ curekart_subset"
   ]
  },
  {
   "cell_type": "code",
   "execution_count": 10,
   "metadata": {},
   "outputs": [],
   "source": [
    "# nano sofmattress_subset/agent.json -- change displayname"
   ]
  },
  {
   "cell_type": "code",
   "execution_count": 10,
   "metadata": {},
   "outputs": [],
   "source": [
    "!mv intents/ curekart_subset/"
   ]
  },
  {
   "cell_type": "code",
   "execution_count": 11,
   "metadata": {
    "collapsed": true,
    "jupyter": {
     "outputs_hidden": true
    }
   },
   "outputs": [
    {
     "name": "stdout",
     "output_type": "stream",
     "text": [
      "  adding: curekart_subset/ (stored 0%)\n",
      "  adding: curekart_subset/package.json (stored 0%)\n",
      "  adding: curekart_subset/agent.json (deflated 54%)\n",
      "  adding: curekart_subset/intents/ (stored 0%)\n",
      "  adding: curekart_subset/intents/INTERNATIONAL_SHIPPING_usersays_en.json (deflated 65%)\n",
      "  adding: curekart_subset/intents/ORDER_TAKING.json (deflated 48%)\n",
      "  adding: curekart_subset/intents/DELAY_IN_PARCEL_usersays_en.json (deflated 81%)\n",
      "  adding: curekart_subset/intents/CANCEL_ORDER.json (deflated 48%)\n",
      "  adding: curekart_subset/intents/MODES_OF_PAYMENTS.json (deflated 47%)\n",
      "  adding: curekart_subset/intents/SIDE_EFFECT_usersays_en.json (deflated 52%)\n",
      "  adding: curekart_subset/intents/WORK_FROM_HOME.json (deflated 47%)\n",
      "  adding: curekart_subset/intents/REFUNDS_RETURNS_REPLACEMENTS.json (deflated 47%)\n",
      "  adding: curekart_subset/intents/PORTAL_ISSUE.json (deflated 48%)\n",
      "  adding: curekart_subset/intents/CALL_CENTER_usersays_en.json (deflated 85%)\n",
      "  adding: curekart_subset/intents/IMMUNITY.json (deflated 49%)\n",
      "  adding: curekart_subset/intents/EXPIRY_DATE_usersays_en.json (deflated 73%)\n",
      "  adding: curekart_subset/intents/REFER_EARN_usersays_en.json (deflated 77%)\n",
      "  adding: curekart_subset/intents/INTERNATIONAL_SHIPPING.json (deflated 47%)\n",
      "  adding: curekart_subset/intents/ORDER_TAKING_usersays_en.json (deflated 87%)\n",
      "  adding: curekart_subset/intents/CANCEL_ORDER_usersays_en.json (deflated 84%)\n",
      "  adding: curekart_subset/intents/STORE_INFORMATION.json (deflated 47%)\n",
      "  adding: curekart_subset/intents/MODES_OF_PAYMENTS_usersays_en.json (deflated 69%)\n",
      "  adding: curekart_subset/intents/CHAT_WITH_AGENT.json (deflated 47%)\n",
      "  adding: curekart_subset/intents/CHECK_PINCODE.json (deflated 48%)\n",
      "  adding: curekart_subset/intents/ORDER_STATUS_usersays_en.json (deflated 84%)\n",
      "  adding: curekart_subset/intents/IMMUNITY_usersays_en.json (deflated 76%)\n",
      "  adding: curekart_subset/intents/REFER_EARN.json (deflated 48%)\n",
      "  adding: curekart_subset/intents/RESUME_DELIVERY_usersays_en.json (deflated 85%)\n",
      "  adding: curekart_subset/intents/RESUME_DELIVERY.json (deflated 47%)\n",
      "  adding: curekart_subset/intents/RECOMMEND_PRODUCT_usersays_en.json (deflated 88%)\n",
      "  adding: curekart_subset/intents/USER_GOAL_FORM_usersays_en.json (deflated 75%)\n",
      "  adding: curekart_subset/intents/FRANCHISE_usersays_en.json (deflated 78%)\n",
      "  adding: curekart_subset/intents/USER_GOAL_FORM.json (deflated 47%)\n",
      "  adding: curekart_subset/intents/STORE_INFORMATION_usersays_en.json (deflated 77%)\n",
      "  adding: curekart_subset/intents/EXPIRY_DATE.json (deflated 48%)\n",
      "  adding: curekart_subset/intents/ORIGINAL_PRODUCT.json (deflated 47%)\n",
      "  adding: curekart_subset/intents/FRANCHISE.json (deflated 48%)\n",
      "  adding: curekart_subset/intents/ORDER_QUERY.json (deflated 48%)\n",
      "  adding: curekart_subset/intents/SIGN_UP.json (deflated 48%)\n",
      "  adding: curekart_subset/intents/ORDER_QUERY_usersays_en.json (deflated 63%)\n",
      "  adding: curekart_subset/intents/CALL_CENTER.json (deflated 48%)\n",
      "  adding: curekart_subset/intents/SIDE_EFFECT.json (deflated 49%)\n",
      "  adding: curekart_subset/intents/WORK_FROM_HOME_usersays_en.json (deflated 80%)\n",
      "  adding: curekart_subset/intents/SIGN_UP_usersays_en.json (deflated 77%)\n",
      "  adding: curekart_subset/intents/PAYMENT_AND_BILL.json (deflated 47%)\n",
      "  adding: curekart_subset/intents/ORIGINAL_PRODUCT_usersays_en.json (deflated 85%)\n",
      "  adding: curekart_subset/intents/CHECK_PINCODE_usersays_en.json (deflated 77%)\n",
      "  adding: curekart_subset/intents/START_OVER.json (deflated 48%)\n",
      "  adding: curekart_subset/intents/MODIFY_ADDRESS.json (deflated 47%)\n",
      "  adding: curekart_subset/intents/ORDER_STATUS.json (deflated 48%)\n",
      "  adding: curekart_subset/intents/CONSULT_START.json (deflated 48%)\n",
      "  adding: curekart_subset/intents/REFUNDS_RETURNS_REPLACEMENTS_usersays_en.json (deflated 85%)\n",
      "  adding: curekart_subset/intents/PAYMENT_AND_BILL_usersays_en.json (deflated 81%)\n",
      "  adding: curekart_subset/intents/START_OVER_usersays_en.json (deflated 73%)\n",
      "  adding: curekart_subset/intents/PORTAL_ISSUE_usersays_en.json (deflated 69%)\n",
      "  adding: curekart_subset/intents/CHAT_WITH_AGENT_usersays_en.json (deflated 86%)\n",
      "  adding: curekart_subset/intents/RECOMMEND_PRODUCT.json (deflated 48%)\n",
      "  adding: curekart_subset/intents/MODIFY_ADDRESS_usersays_en.json (deflated 85%)\n",
      "  adding: curekart_subset/intents/DELAY_IN_PARCEL.json (deflated 47%)\n",
      "  adding: curekart_subset/intents/CONSULT_START_usersays_en.json (deflated 85%)\n"
     ]
    }
   ],
   "source": [
    "!zip -r curekart_subset.zip curekart_subset/"
   ]
  },
  {
   "cell_type": "code",
   "execution_count": null,
   "metadata": {},
   "outputs": [],
   "source": []
  }
 ],
 "metadata": {
  "kernelspec": {
   "display_name": "Python (py36)",
   "language": "python",
   "name": "py36"
  },
  "language_info": {
   "codemirror_mode": {
    "name": "ipython",
    "version": 3
   },
   "file_extension": ".py",
   "mimetype": "text/x-python",
   "name": "python",
   "nbconvert_exporter": "python",
   "pygments_lexer": "ipython3",
   "version": "3.6.8"
  }
 },
 "nbformat": 4,
 "nbformat_minor": 4
}
