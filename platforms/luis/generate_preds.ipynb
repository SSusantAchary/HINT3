{
 "cells": [
  {
   "cell_type": "code",
   "execution_count": 1,
   "metadata": {},
   "outputs": [],
   "source": [
    "from tqdm import tqdm\n",
    "import pandas as pd\n",
    "import json\n",
    "import requests\n",
    "import time"
   ]
  },
  {
   "cell_type": "code",
   "execution_count": 2,
   "metadata": {},
   "outputs": [],
   "source": [
    "bot_name = 'curekart_subset'"
   ]
  },
  {
   "cell_type": "code",
   "execution_count": 3,
   "metadata": {},
   "outputs": [],
   "source": [
    "with open(f'keys/{bot_name}.json', 'r') as f:\n",
    "    keys = json.load(f)"
   ]
  },
  {
   "cell_type": "code",
   "execution_count": 4,
   "metadata": {},
   "outputs": [],
   "source": [
    "APP_ID = keys['app_id']\n",
    "PREDICTION_KEY = keys['primary_key']\n",
    "PREDICTION_ENDPOINT = keys['endpoint_url']"
   ]
  },
  {
   "cell_type": "code",
   "execution_count": 5,
   "metadata": {},
   "outputs": [],
   "source": [
    "def predict_node_name(text):\n",
    "        params = {\n",
    "            'query': text,\n",
    "            'timezoneOffset': '0',\n",
    "            'verbose': 'true',\n",
    "            'show-all-intents': 'true',\n",
    "            'spellCheck': 'true',\n",
    "            'staging': 'false',\n",
    "            'subscription-key': PREDICTION_KEY\n",
    "        }\n",
    "\n",
    "        response = requests.get(f'{PREDICTION_ENDPOINT}luis/prediction/v3.0/apps/{APP_ID}/slots/production/predict', headers={}, params=params)\n",
    "\n",
    "        predicted_node = response.json()['prediction']['topIntent']\n",
    "        predicted_node_score = response.json()['prediction']['intents'][predicted_node]['score']\n",
    "\n",
    "        return predicted_node, predicted_node_score"
   ]
  },
  {
   "cell_type": "code",
   "execution_count": 6,
   "metadata": {},
   "outputs": [
    {
     "data": {
      "text/html": [
       "<div>\n",
       "<style scoped>\n",
       "    .dataframe tbody tr th:only-of-type {\n",
       "        vertical-align: middle;\n",
       "    }\n",
       "\n",
       "    .dataframe tbody tr th {\n",
       "        vertical-align: top;\n",
       "    }\n",
       "\n",
       "    .dataframe thead th {\n",
       "        text-align: right;\n",
       "    }\n",
       "</style>\n",
       "<table border=\"1\" class=\"dataframe\">\n",
       "  <thead>\n",
       "    <tr style=\"text-align: right;\">\n",
       "      <th></th>\n",
       "      <th>sentence</th>\n",
       "      <th>label</th>\n",
       "    </tr>\n",
       "  </thead>\n",
       "  <tbody>\n",
       "    <tr>\n",
       "      <th>0</th>\n",
       "      <td>Order my product</td>\n",
       "      <td>ORDER_TAKING</td>\n",
       "    </tr>\n",
       "    <tr>\n",
       "      <th>1</th>\n",
       "      <td>Hy</td>\n",
       "      <td>NO_NODES_DETECTED</td>\n",
       "    </tr>\n",
       "    <tr>\n",
       "      <th>2</th>\n",
       "      <td>I want to order Wottle sensitive handwash refill</td>\n",
       "      <td>RECOMMEND_PRODUCT</td>\n",
       "    </tr>\n",
       "    <tr>\n",
       "      <th>3</th>\n",
       "      <td>have u started C D provision for pin code 702164</td>\n",
       "      <td>CHECK_PINCODE</td>\n",
       "    </tr>\n",
       "    <tr>\n",
       "      <th>4</th>\n",
       "      <td>How do I know it will deliver in my place</td>\n",
       "      <td>NO_NODES_DETECTED</td>\n",
       "    </tr>\n",
       "  </tbody>\n",
       "</table>\n",
       "</div>"
      ],
      "text/plain": [
       "                                           sentence              label\n",
       "0                                  Order my product       ORDER_TAKING\n",
       "1                                                Hy  NO_NODES_DETECTED\n",
       "2  I want to order Wottle sensitive handwash refill  RECOMMEND_PRODUCT\n",
       "3  have u started C D provision for pin code 702164      CHECK_PINCODE\n",
       "4         How do I know it will deliver in my place  NO_NODES_DETECTED"
      ]
     },
     "execution_count": 6,
     "metadata": {},
     "output_type": "execute_result"
    }
   ],
   "source": [
    "test_file_name = bot_name if '_subset' not in bot_name else bot_name.replace('_subset', '')\n",
    "df_test = pd.read_csv(f'../../test/{test_file_name}_test.csv')\n",
    "df_test.head()"
   ]
  },
  {
   "cell_type": "code",
   "execution_count": 7,
   "metadata": {},
   "outputs": [
    {
     "data": {
      "text/plain": [
       "(991, 2)"
      ]
     },
     "execution_count": 7,
     "metadata": {},
     "output_type": "execute_result"
    }
   ],
   "source": [
    "df_test.shape"
   ]
  },
  {
   "cell_type": "code",
   "execution_count": 8,
   "metadata": {},
   "outputs": [
    {
     "data": {
      "text/plain": [
       "('ORDER_STATUS', 0.131283209)"
      ]
     },
     "execution_count": 8,
     "metadata": {},
     "output_type": "execute_result"
    }
   ],
   "source": [
    "predict_node_name('Order my product')"
   ]
  },
  {
   "cell_type": "code",
   "execution_count": 9,
   "metadata": {},
   "outputs": [
    {
     "name": "stderr",
     "output_type": "stream",
     "text": [
      "100%|██████████| 991/991 [19:58<00:00,  1.21s/it]\n"
     ]
    },
    {
     "data": {
      "text/html": [
       "<div>\n",
       "<style scoped>\n",
       "    .dataframe tbody tr th:only-of-type {\n",
       "        vertical-align: middle;\n",
       "    }\n",
       "\n",
       "    .dataframe tbody tr th {\n",
       "        vertical-align: top;\n",
       "    }\n",
       "\n",
       "    .dataframe thead th {\n",
       "        text-align: right;\n",
       "    }\n",
       "</style>\n",
       "<table border=\"1\" class=\"dataframe\">\n",
       "  <thead>\n",
       "    <tr style=\"text-align: right;\">\n",
       "      <th></th>\n",
       "      <th>sentence</th>\n",
       "      <th>label</th>\n",
       "      <th>predicted_node</th>\n",
       "      <th>predicted_node_score</th>\n",
       "    </tr>\n",
       "  </thead>\n",
       "  <tbody>\n",
       "    <tr>\n",
       "      <th>0</th>\n",
       "      <td>Order my product</td>\n",
       "      <td>ORDER_TAKING</td>\n",
       "      <td>ORDER_STATUS</td>\n",
       "      <td>0.131283</td>\n",
       "    </tr>\n",
       "    <tr>\n",
       "      <th>1</th>\n",
       "      <td>Hy</td>\n",
       "      <td>NO_NODES_DETECTED</td>\n",
       "      <td>RECOMMEND_PRODUCT</td>\n",
       "      <td>0.457261</td>\n",
       "    </tr>\n",
       "    <tr>\n",
       "      <th>2</th>\n",
       "      <td>I want to order Wottle sensitive handwash refill</td>\n",
       "      <td>RECOMMEND_PRODUCT</td>\n",
       "      <td>RECOMMEND_PRODUCT</td>\n",
       "      <td>0.042601</td>\n",
       "    </tr>\n",
       "    <tr>\n",
       "      <th>3</th>\n",
       "      <td>have u started C D provision for pin code 702164</td>\n",
       "      <td>CHECK_PINCODE</td>\n",
       "      <td>RESUME_DELIVERY</td>\n",
       "      <td>0.077872</td>\n",
       "    </tr>\n",
       "    <tr>\n",
       "      <th>4</th>\n",
       "      <td>How do I know it will deliver in my place</td>\n",
       "      <td>NO_NODES_DETECTED</td>\n",
       "      <td>RESUME_DELIVERY</td>\n",
       "      <td>0.943636</td>\n",
       "    </tr>\n",
       "  </tbody>\n",
       "</table>\n",
       "</div>"
      ],
      "text/plain": [
       "                                           sentence              label  \\\n",
       "0                                  Order my product       ORDER_TAKING   \n",
       "1                                                Hy  NO_NODES_DETECTED   \n",
       "2  I want to order Wottle sensitive handwash refill  RECOMMEND_PRODUCT   \n",
       "3  have u started C D provision for pin code 702164      CHECK_PINCODE   \n",
       "4         How do I know it will deliver in my place  NO_NODES_DETECTED   \n",
       "\n",
       "      predicted_node  predicted_node_score  \n",
       "0       ORDER_STATUS              0.131283  \n",
       "1  RECOMMEND_PRODUCT              0.457261  \n",
       "2  RECOMMEND_PRODUCT              0.042601  \n",
       "3    RESUME_DELIVERY              0.077872  \n",
       "4    RESUME_DELIVERY              0.943636  "
      ]
     },
     "execution_count": 9,
     "metadata": {},
     "output_type": "execute_result"
    }
   ],
   "source": [
    "pred_nodes = []\n",
    "pred_scores = []\n",
    "for index, row in tqdm(df_test.iterrows(), total=df_test.shape[0]):\n",
    "    node_name, node_score = predict_node_name(row['sentence'])\n",
    "    pred_nodes.append(node_name)\n",
    "    pred_scores.append(node_score)\n",
    "    time.sleep(0.3)\n",
    "df_test['predicted_node'] = pred_nodes\n",
    "df_test['predicted_node_score'] = pred_scores\n",
    "df_test.head()"
   ]
  },
  {
   "cell_type": "code",
   "execution_count": 10,
   "metadata": {},
   "outputs": [
    {
     "data": {
      "text/plain": [
       "{'IMMUNITY', 'INTERNATIONAL_SHIPPING', 'None', 'PORTAL_ISSUE'}"
      ]
     },
     "execution_count": 10,
     "metadata": {},
     "output_type": "execute_result"
    }
   ],
   "source": [
    "set(df_test['predicted_node']) - set(df_test['label'])"
   ]
  },
  {
   "cell_type": "code",
   "execution_count": 11,
   "metadata": {},
   "outputs": [
    {
     "name": "stdout",
     "output_type": "stream",
     "text": [
      "{'PORTAL_ISSUE', 'INTERNATIONAL_SHIPPING', 'IMMUNITY'}\n"
     ]
    }
   ],
   "source": [
    "pred_nodes = []\n",
    "for index, row in df_test.iterrows():\n",
    "    if row['predicted_node'] == 'None':\n",
    "        pred_nodes.append('NO_NODES_DETECTED')\n",
    "    else:\n",
    "        pred_nodes.append(row['predicted_node'])\n",
    "df_test['predicted_node'] = pred_nodes\n",
    "print(set(df_test['predicted_node']) - set(df_test['label']))"
   ]
  },
  {
   "cell_type": "code",
   "execution_count": 12,
   "metadata": {},
   "outputs": [
    {
     "data": {
      "text/html": [
       "<div>\n",
       "<style scoped>\n",
       "    .dataframe tbody tr th:only-of-type {\n",
       "        vertical-align: middle;\n",
       "    }\n",
       "\n",
       "    .dataframe tbody tr th {\n",
       "        vertical-align: top;\n",
       "    }\n",
       "\n",
       "    .dataframe thead th {\n",
       "        text-align: right;\n",
       "    }\n",
       "</style>\n",
       "<table border=\"1\" class=\"dataframe\">\n",
       "  <thead>\n",
       "    <tr style=\"text-align: right;\">\n",
       "      <th></th>\n",
       "      <th>sentence</th>\n",
       "      <th>label</th>\n",
       "      <th>predicted_node</th>\n",
       "      <th>predicted_node_score</th>\n",
       "    </tr>\n",
       "  </thead>\n",
       "  <tbody>\n",
       "    <tr>\n",
       "      <th>0</th>\n",
       "      <td>Order my product</td>\n",
       "      <td>ORDER_TAKING</td>\n",
       "      <td>ORDER_STATUS</td>\n",
       "      <td>0.131283</td>\n",
       "    </tr>\n",
       "    <tr>\n",
       "      <th>1</th>\n",
       "      <td>Hy</td>\n",
       "      <td>NO_NODES_DETECTED</td>\n",
       "      <td>RECOMMEND_PRODUCT</td>\n",
       "      <td>0.457261</td>\n",
       "    </tr>\n",
       "    <tr>\n",
       "      <th>2</th>\n",
       "      <td>I want to order Wottle sensitive handwash refill</td>\n",
       "      <td>RECOMMEND_PRODUCT</td>\n",
       "      <td>RECOMMEND_PRODUCT</td>\n",
       "      <td>0.042601</td>\n",
       "    </tr>\n",
       "    <tr>\n",
       "      <th>3</th>\n",
       "      <td>have u started C D provision for pin code 702164</td>\n",
       "      <td>CHECK_PINCODE</td>\n",
       "      <td>RESUME_DELIVERY</td>\n",
       "      <td>0.077872</td>\n",
       "    </tr>\n",
       "    <tr>\n",
       "      <th>4</th>\n",
       "      <td>How do I know it will deliver in my place</td>\n",
       "      <td>NO_NODES_DETECTED</td>\n",
       "      <td>RESUME_DELIVERY</td>\n",
       "      <td>0.943636</td>\n",
       "    </tr>\n",
       "  </tbody>\n",
       "</table>\n",
       "</div>"
      ],
      "text/plain": [
       "                                           sentence              label  \\\n",
       "0                                  Order my product       ORDER_TAKING   \n",
       "1                                                Hy  NO_NODES_DETECTED   \n",
       "2  I want to order Wottle sensitive handwash refill  RECOMMEND_PRODUCT   \n",
       "3  have u started C D provision for pin code 702164      CHECK_PINCODE   \n",
       "4         How do I know it will deliver in my place  NO_NODES_DETECTED   \n",
       "\n",
       "      predicted_node  predicted_node_score  \n",
       "0       ORDER_STATUS              0.131283  \n",
       "1  RECOMMEND_PRODUCT              0.457261  \n",
       "2  RECOMMEND_PRODUCT              0.042601  \n",
       "3    RESUME_DELIVERY              0.077872  \n",
       "4    RESUME_DELIVERY              0.943636  "
      ]
     },
     "execution_count": 12,
     "metadata": {},
     "output_type": "execute_result"
    }
   ],
   "source": [
    "df_test.head()"
   ]
  },
  {
   "cell_type": "code",
   "execution_count": 13,
   "metadata": {},
   "outputs": [],
   "source": [
    "df_test.to_csv(f'../../preds/luis_{bot_name}.csv', index=False)"
   ]
  },
  {
   "cell_type": "code",
   "execution_count": 14,
   "metadata": {},
   "outputs": [
    {
     "data": {
      "text/plain": [
       "(991, 4)"
      ]
     },
     "execution_count": 14,
     "metadata": {},
     "output_type": "execute_result"
    }
   ],
   "source": [
    "df_test.shape"
   ]
  },
  {
   "cell_type": "code",
   "execution_count": null,
   "metadata": {},
   "outputs": [],
   "source": []
  }
 ],
 "metadata": {
  "kernelspec": {
   "display_name": "Python (py36)",
   "language": "python",
   "name": "py36"
  },
  "language_info": {
   "codemirror_mode": {
    "name": "ipython",
    "version": 3
   },
   "file_extension": ".py",
   "mimetype": "text/x-python",
   "name": "python",
   "nbconvert_exporter": "python",
   "pygments_lexer": "ipython3",
   "version": "3.6.8"
  }
 },
 "nbformat": 4,
 "nbformat_minor": 4
}
