{
 "cells": [
  {
   "cell_type": "code",
   "execution_count": 1,
   "metadata": {},
   "outputs": [],
   "source": [
    "import json\n",
    "import pandas as pd"
   ]
  },
  {
   "cell_type": "code",
   "execution_count": 2,
   "metadata": {},
   "outputs": [],
   "source": [
    "bot_name = 'curekart_subset'"
   ]
  },
  {
   "cell_type": "code",
   "execution_count": 3,
   "metadata": {},
   "outputs": [],
   "source": [
    "luis_dict = {\n",
    "    \"luis_schema_version\": \"6.0.0\",\n",
    "    \"intents\": None,\n",
    "    \"entities\": [],\n",
    "    \"hierarchicals\": [],\n",
    "    \"composites\": [],\n",
    "    \"closedLists\": [],\n",
    "    \"prebuiltEntities\": [],\n",
    "    \"utterances\": None,\n",
    "    \"versionId\": \"0.1\",\n",
    "    \"name\": bot_name,\n",
    "    \"desc\": \"\",\n",
    "    \"culture\": \"en-us\",\n",
    "    \"tokenizerVersion\": \"1.0.0\",\n",
    "    \"patternAnyEntities\": [],\n",
    "    \"regex_entities\": [],\n",
    "    \"phraselists\": [],\n",
    "    \"regex_features\": [],\n",
    "    \"patterns\": [],\n",
    "    \"settings\": [],\n",
    "}"
   ]
  },
  {
   "cell_type": "code",
   "execution_count": 4,
   "metadata": {},
   "outputs": [
    {
     "data": {
      "text/html": [
       "<div>\n",
       "<style scoped>\n",
       "    .dataframe tbody tr th:only-of-type {\n",
       "        vertical-align: middle;\n",
       "    }\n",
       "\n",
       "    .dataframe tbody tr th {\n",
       "        vertical-align: top;\n",
       "    }\n",
       "\n",
       "    .dataframe thead th {\n",
       "        text-align: right;\n",
       "    }\n",
       "</style>\n",
       "<table border=\"1\" class=\"dataframe\">\n",
       "  <thead>\n",
       "    <tr style=\"text-align: right;\">\n",
       "      <th></th>\n",
       "      <th>label</th>\n",
       "      <th>sentence</th>\n",
       "    </tr>\n",
       "  </thead>\n",
       "  <tbody>\n",
       "    <tr>\n",
       "      <th>0</th>\n",
       "      <td>RECOMMEND_PRODUCT</td>\n",
       "      <td>I am confused about what to buy since there ar...</td>\n",
       "    </tr>\n",
       "    <tr>\n",
       "      <th>1</th>\n",
       "      <td>RECOMMEND_PRODUCT</td>\n",
       "      <td>I have been trying to maintain a healthy lifes...</td>\n",
       "    </tr>\n",
       "    <tr>\n",
       "      <th>2</th>\n",
       "      <td>RECOMMEND_PRODUCT</td>\n",
       "      <td>Can you help me with building an athletic body...</td>\n",
       "    </tr>\n",
       "    <tr>\n",
       "      <th>3</th>\n",
       "      <td>RECOMMEND_PRODUCT</td>\n",
       "      <td>I need some hair care products since I have be...</td>\n",
       "    </tr>\n",
       "    <tr>\n",
       "      <th>4</th>\n",
       "      <td>RECOMMEND_PRODUCT</td>\n",
       "      <td>I'm here to browse some products because my fr...</td>\n",
       "    </tr>\n",
       "  </tbody>\n",
       "</table>\n",
       "</div>"
      ],
      "text/plain": [
       "               label                                           sentence\n",
       "0  RECOMMEND_PRODUCT  I am confused about what to buy since there ar...\n",
       "1  RECOMMEND_PRODUCT  I have been trying to maintain a healthy lifes...\n",
       "2  RECOMMEND_PRODUCT  Can you help me with building an athletic body...\n",
       "3  RECOMMEND_PRODUCT  I need some hair care products since I have be...\n",
       "4  RECOMMEND_PRODUCT  I'm here to browse some products because my fr..."
      ]
     },
     "execution_count": 4,
     "metadata": {},
     "output_type": "execute_result"
    }
   ],
   "source": [
    "data = pd.read_csv(f'../../train/{bot_name}_train.csv')\n",
    "data.head()"
   ]
  },
  {
   "cell_type": "code",
   "execution_count": 5,
   "metadata": {},
   "outputs": [
    {
     "data": {
      "text/plain": [
       "(413, 2)"
      ]
     },
     "execution_count": 5,
     "metadata": {},
     "output_type": "execute_result"
    }
   ],
   "source": [
    "data.shape"
   ]
  },
  {
   "cell_type": "code",
   "execution_count": 6,
   "metadata": {},
   "outputs": [],
   "source": [
    "intents = [{\"name\": label, \"features\" :[]} for label in list(set(data['label'].to_list()))]\n",
    "utterances = []\n",
    "for index, row in data.iterrows():\n",
    "    utterances.append({ \"text\": row['sentence'], \"intent\": row['label'], \"entities\": []})\n",
    "luis_dict['intents'] = intents\n",
    "luis_dict['utterances'] = utterances"
   ]
  },
  {
   "cell_type": "code",
   "execution_count": 7,
   "metadata": {},
   "outputs": [],
   "source": [
    "with open(f'data/{bot_name}.json', 'w') as fp:\n",
    "    json.dump(luis_dict, fp)"
   ]
  },
  {
   "cell_type": "code",
   "execution_count": null,
   "metadata": {},
   "outputs": [],
   "source": []
  }
 ],
 "metadata": {
  "kernelspec": {
   "display_name": "Python (py36)",
   "language": "python",
   "name": "py36"
  },
  "language_info": {
   "codemirror_mode": {
    "name": "ipython",
    "version": 3
   },
   "file_extension": ".py",
   "mimetype": "text/x-python",
   "name": "python",
   "nbconvert_exporter": "python",
   "pygments_lexer": "ipython3",
   "version": "3.6.8"
  }
 },
 "nbformat": 4,
 "nbformat_minor": 4
}
