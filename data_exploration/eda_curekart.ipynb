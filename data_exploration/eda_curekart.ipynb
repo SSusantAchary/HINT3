{
 "cells": [
  {
   "cell_type": "code",
   "execution_count": 1,
   "metadata": {},
   "outputs": [],
   "source": [
    "from fastai.text import *\n",
    "import matplotlib.pyplot as plt\n",
    "from statistics import mean, median, mode"
   ]
  },
  {
   "cell_type": "code",
   "execution_count": 2,
   "metadata": {},
   "outputs": [
    {
     "data": {
      "text/html": [
       "<div>\n",
       "<style scoped>\n",
       "    .dataframe tbody tr th:only-of-type {\n",
       "        vertical-align: middle;\n",
       "    }\n",
       "\n",
       "    .dataframe tbody tr th {\n",
       "        vertical-align: top;\n",
       "    }\n",
       "\n",
       "    .dataframe thead th {\n",
       "        text-align: right;\n",
       "    }\n",
       "</style>\n",
       "<table border=\"1\" class=\"dataframe\">\n",
       "  <thead>\n",
       "    <tr style=\"text-align: right;\">\n",
       "      <th></th>\n",
       "      <th>label</th>\n",
       "      <th>sentence</th>\n",
       "    </tr>\n",
       "  </thead>\n",
       "  <tbody>\n",
       "    <tr>\n",
       "      <th>0</th>\n",
       "      <td>CALL_CENTER</td>\n",
       "      <td>What time is your call centre operational duri...</td>\n",
       "    </tr>\n",
       "    <tr>\n",
       "      <th>1</th>\n",
       "      <td>CALL_CENTER</td>\n",
       "      <td>is the call center still functioning during lo...</td>\n",
       "    </tr>\n",
       "    <tr>\n",
       "      <th>2</th>\n",
       "      <td>CALL_CENTER</td>\n",
       "      <td>what are the working hours of your call center...</td>\n",
       "    </tr>\n",
       "    <tr>\n",
       "      <th>3</th>\n",
       "      <td>CALL_CENTER</td>\n",
       "      <td>does covid affext your call center time</td>\n",
       "    </tr>\n",
       "    <tr>\n",
       "      <th>4</th>\n",
       "      <td>CALL_CENTER</td>\n",
       "      <td>is your call center working during covid?</td>\n",
       "    </tr>\n",
       "  </tbody>\n",
       "</table>\n",
       "</div>"
      ],
      "text/plain": [
       "         label                                           sentence\n",
       "0  CALL_CENTER  What time is your call centre operational duri...\n",
       "1  CALL_CENTER  is the call center still functioning during lo...\n",
       "2  CALL_CENTER  what are the working hours of your call center...\n",
       "3  CALL_CENTER            does covid affext your call center time\n",
       "4  CALL_CENTER          is your call center working during covid?"
      ]
     },
     "execution_count": 2,
     "metadata": {},
     "output_type": "execute_result"
    }
   ],
   "source": [
    "df_train = pd.read_csv('../train/curekart_train.csv')\n",
    "df_train.head()"
   ]
  },
  {
   "cell_type": "code",
   "execution_count": 3,
   "metadata": {},
   "outputs": [
    {
     "data": {
      "text/plain": [
       "(600, 2)"
      ]
     },
     "execution_count": 3,
     "metadata": {},
     "output_type": "execute_result"
    }
   ],
   "source": [
    "df_train.shape"
   ]
  },
  {
   "cell_type": "code",
   "execution_count": 4,
   "metadata": {},
   "outputs": [
    {
     "data": {
      "text/html": [
       "<div>\n",
       "<style scoped>\n",
       "    .dataframe tbody tr th:only-of-type {\n",
       "        vertical-align: middle;\n",
       "    }\n",
       "\n",
       "    .dataframe tbody tr th {\n",
       "        vertical-align: top;\n",
       "    }\n",
       "\n",
       "    .dataframe thead th {\n",
       "        text-align: right;\n",
       "    }\n",
       "</style>\n",
       "<table border=\"1\" class=\"dataframe\">\n",
       "  <thead>\n",
       "    <tr style=\"text-align: right;\">\n",
       "      <th></th>\n",
       "      <th>sentence</th>\n",
       "      <th>label</th>\n",
       "    </tr>\n",
       "  </thead>\n",
       "  <tbody>\n",
       "    <tr>\n",
       "      <th>0</th>\n",
       "      <td>Order my product</td>\n",
       "      <td>ORDER_TAKING</td>\n",
       "    </tr>\n",
       "    <tr>\n",
       "      <th>1</th>\n",
       "      <td>Hy</td>\n",
       "      <td>NO_NODES_DETECTED</td>\n",
       "    </tr>\n",
       "    <tr>\n",
       "      <th>2</th>\n",
       "      <td>I want to order Wottle sensitive handwash refill</td>\n",
       "      <td>RECOMMEND_PRODUCT</td>\n",
       "    </tr>\n",
       "    <tr>\n",
       "      <th>3</th>\n",
       "      <td>have u started C D provision for pin code 702164</td>\n",
       "      <td>CHECK_PINCODE</td>\n",
       "    </tr>\n",
       "    <tr>\n",
       "      <th>4</th>\n",
       "      <td>How do I know it will deliver in my place</td>\n",
       "      <td>NO_NODES_DETECTED</td>\n",
       "    </tr>\n",
       "  </tbody>\n",
       "</table>\n",
       "</div>"
      ],
      "text/plain": [
       "                                           sentence              label\n",
       "0                                  Order my product       ORDER_TAKING\n",
       "1                                                Hy  NO_NODES_DETECTED\n",
       "2  I want to order Wottle sensitive handwash refill  RECOMMEND_PRODUCT\n",
       "3  have u started C D provision for pin code 702164      CHECK_PINCODE\n",
       "4         How do I know it will deliver in my place  NO_NODES_DETECTED"
      ]
     },
     "execution_count": 4,
     "metadata": {},
     "output_type": "execute_result"
    }
   ],
   "source": [
    "df_test = pd.read_csv('../test/curekart_test.csv')\n",
    "df_test.head()"
   ]
  },
  {
   "cell_type": "code",
   "execution_count": 5,
   "metadata": {},
   "outputs": [
    {
     "data": {
      "text/plain": [
       "(991, 2)"
      ]
     },
     "execution_count": 5,
     "metadata": {},
     "output_type": "execute_result"
    }
   ],
   "source": [
    "df_test.shape"
   ]
  },
  {
   "cell_type": "code",
   "execution_count": 6,
   "metadata": {},
   "outputs": [
    {
     "name": "stdout",
     "output_type": "stream",
     "text": [
      "Inscope queries in Test set:  452\n",
      "OOS queries in Test set:  539\n"
     ]
    }
   ],
   "source": [
    "# No. of Inscope queries, No. of OOS queries\n",
    "print('Inscope queries in Test set: ', df_test[df_test['label']!='NO_NODES_DETECTED'].shape[0])\n",
    "print('OOS queries in Test set: ', df_test[df_test['label']=='NO_NODES_DETECTED'].shape[0])"
   ]
  },
  {
   "cell_type": "code",
   "execution_count": 7,
   "metadata": {},
   "outputs": [
    {
     "name": "stdout",
     "output_type": "stream",
     "text": [
      "No of classes:  28\n"
     ]
    }
   ],
   "source": [
    "# No of classes\n",
    "print('No of classes: ', len(set(df_train['label'])))"
   ]
  },
  {
   "cell_type": "code",
   "execution_count": 8,
   "metadata": {},
   "outputs": [
    {
     "data": {
      "image/png": "[encoded data removed]",
      "text/plain": [
       "<matplotlib.figure.Figure at 0x7f65c845d400>"
      ]
     },
     "metadata": {},
     "output_type": "display_data"
    }
   ],
   "source": [
    "# Class distribution in training set\n",
    "D = Counter(df_train['label'])\n",
    "plt.rcParams[\"figure.figsize\"] = (40,10)\n",
    "plt.bar(range(len(D)), list(D.values()), align='center')\n",
    "plt.xticks(range(len(D)), list(D.keys()))\n",
    "plt.show()"
   ]
  },
  {
   "cell_type": "code",
   "execution_count": 9,
   "metadata": {},
   "outputs": [
    {
     "name": "stdout",
     "output_type": "stream",
     "text": [
      "Min no. of sentences:  3\n",
      "Max no. of sentences:  95\n",
      "Avg no. of sentences:  21.428571428571427\n",
      "Median of sentences:  13.5\n"
     ]
    }
   ],
   "source": [
    "# Min, Max, Avg no of sentences per class in Training set\n",
    "print('Min no. of sentences: ', min(D.values()))\n",
    "print('Max no. of sentences: ', max(D.values()))\n",
    "print('Avg no. of sentences: ', mean(D.values()))\n",
    "print('Median of sentences: ', median(D.values()))"
   ]
  },
  {
   "cell_type": "code",
   "execution_count": 10,
   "metadata": {},
   "outputs": [
    {
     "data": {
      "image/png": "[encoded data removed]",
      "text/plain": [
       "<matplotlib.figure.Figure at 0x7f65c845d240>"
      ]
     },
     "metadata": {},
     "output_type": "display_data"
    }
   ],
   "source": [
    "# Class distribution in test set\n",
    "D = Counter(df_test['label'])\n",
    "plt.rcParams[\"figure.figsize\"] = (40,10)\n",
    "plt.bar(range(len(D)), list(D.values()), align='center')\n",
    "plt.xticks(range(len(D)), list(D.keys()))\n",
    "plt.show()"
   ]
  },
  {
   "cell_type": "code",
   "execution_count": 11,
   "metadata": {
    "scrolled": true
   },
   "outputs": [
    {
     "name": "stdout",
     "output_type": "stream",
     "text": [
      "[' ', 'recieve', 'dumbbell', 'cani', '.how', 'hii', 'paymets', 'wts', 'syntha', 'coronvirus', 'prepay', 'covid', 'ther', 'banglore', 'whould', 'covid-19', 'refral', 'àre', 'curekart', 'addres', '’s', 'expacted', 'lein', 'publised', 'hairfall', 'debited', 'biotin', 'referal', 'heathkart', \"n't\", 'tricep', 'multivitamin', 'detox', 'becuase', 'pls', 'pincode', 'dumbbells', 'refferal', 'triceps', 'prepaid', 'reachable', 'authenticate', 'arginine', 'plz', 'invoice', 'multivitamins', 'reedem', \"'m\", 'bulking', 'deliverable', 'whey', 'isopure', 'covid19', 'orignal', 'affext', 'bodybuilding', 'creatine', 'supergainer', 'producs', 'dumbells', 'essestial', 'bcaa', 'musclemass', 'coronavirus', 'recieved']\n"
     ]
    }
   ],
   "source": [
    "# OOV words/Domain specific words and Spelling mistakes in train set\n",
    "with open(\"/home/ubuntu/gaurav/.fastai/models/wt103-fwd/itos_wt103.pkl\", \"rb\") as input_file:\n",
    "    wiki_itos = pickle.load(input_file)\n",
    "tok = SpacyTokenizer('en')\n",
    "oov_tokens = []\n",
    "for index, row in df_train.iterrows():\n",
    "    tokens = tok.tokenizer((row['sentence']).lower())\n",
    "    for t in tokens:\n",
    "        if t not in wiki_itos:\n",
    "            oov_tokens.append(t)\n",
    "oov_tokens = list(set(oov_tokens))\n",
    "print(oov_tokens)"
   ]
  },
  {
   "cell_type": "code",
   "execution_count": 13,
   "metadata": {},
   "outputs": [
    {
     "name": "stdout",
     "output_type": "stream",
     "text": [
      "['rivamal', 'now.plz', 'alivea', 'ndia', 'thankuhh', 'porotin', 'btao', '6lbs', 'wigzin', 'diabeti', '50%off', 'lopi', 'inditify', 'combogia', 'thermocut', 'tuffco', 'halal', 'लगता', '.it', 'adar', 'availanle', \"n't\", 'voster', 'aap', 'multivitamin', 'konsa', 'reassesment', 'sinrar', 'veg', 'oxymeter', 'weracin', 'ramnagar', 'sahi', 'biozyme', 'dayanand', 'ringworm', '🖐', 'jents', 'tryn', 'gainz', 'diff', 'sakr', 'नंबर', 'abouy', 'glucometer', 'hkbeginners', '\\n', 'recomand', 'aarondeadly@gmail.com', 'whieght', 'ite', 'protien', 'tamron', 'nonvegitarian', 'किया', 'dawa', 'vencil', 'dite', 'ths', 'creatine', 'plzzz', 'equipments', 'amnio', 'differnt', 'bidhanu', 'cambogia', 'you.notify', 'मिलेगा', 'mujhe', 'frnds', 'रस', '10.16', 'ऑनलाइन', 'khaye', '24/7', 'hihiiiii', 'recammend', '.my', 'curekart', 'पास', 'digestible', 'livercare', 'peddlin', 'payapp', 'shampoo', 'thankyou', 'neuropathy', 'आप', 'biotin', '7120', '8712', 'deliverable', 'giddalur', 'barofil', 'durgapur', 'redith', '🏻', 'tr2100', 'ketta', 'barcod', 'kitna', 'मेरा', 'spectrazole', 'shoppe', 'wei8', 'skti', 'celiac', 'gummy', 'prise', 'heloo', 'kiya', 'sath', '8.6gm', 'ऑर्डर', 'wnt', 'milega', 'asansol', 'pincode', 'yg', 'gainers', 'troycyl', 'ultimax', 'ghonorrhe', 'janak', '.....', 'dint', 'percel', 'dumbells', 'useing', 'ashvagandha', 'resisved', 'hsmko', '7021645199', 'creatinine', '702164', 'aayga', 'barbell', 'coupen', 'fixelet', 'amritsar', 'prduct', 'dumbels', 'krta', 'prepaid', 'swiftlens', 'accuchek', 'srilanka', 'masx', 'leta', 'sambroda', '1717age', '3900', 'vvvvv', '150mgtab', \"did't\", 'wamt', 'vitozit', 'excell', 'musclebuild', 'gonix', 'ichgold', '❓', 'arjus', 'gluthaione', 'supplyment', 'क्या', 'as30', 'eg', 'melatonin', 'humanogrowth', \"wan't\", 'diabetics', 'liwaz', 'hiii', 'hirokeen', 'kolupu', '𝓬𝓪𝓷𝓬𝓵𝓮', 'vyaktitva', 'liye', 'authencity', 'muzaffarpur', 'yous', 'musclefit', 'ordee', 'के', 'nitrotech', 'hydroxy', '+1', 'ohk', 'karu', 'हो', '.i', 'बोलता', 'chep', 'arginine', 'chahiye', 'coustmer', 'carb', 'dinanath', 'sportan', 'wottle', 'preworkout', 'muscel', 'apki', 'apne', 'boodi', 'colure', 'dist', 'kesa', 'intellecte', '’s', 'resealed', 'shareer', 'hloo', 'm.p', 'शीशम', 'shavellete', 'provital', 'ismei', 'bulking', 'vatsu', 'awailable', 'sporto', '10000mcg', '90tablets', 'unaku', 'kya', 'hepl', 'नहीं', 'glimzy', 'powermaximus', 'multitab', 'cofee', 'protinus', 'ashwagandha', 'blothomine', 'fusse', 'prakasam', 'succesful', 'behatar', 'optiquick', 'plz', \"'m\", 'thigting', 'kaisa', 'lufsith', 'monohydrate', 'my.fast', \"'ve\", '4200', 'tridemile', 'cide', 'ichpure', '14age', 'site100', 'qr', 'reorder', 'isse', 'bhe', 'khareed', 'prosthtic', 'pior', 'laiser', '𝔀𝓪𝓷𝓽', 'उसमें', 'afjalpur', 'kab', '....', '10%off', 'swasth', '5.2lbs', 'dumbbells', 'handwash', 'silkrete', 'suppliment', 'whey', 'kamjori', 'भाई', 'thr', 'mindcare', 'whatis', 'vaksha', 'bathinda', 'citrech', 'delite', \"d'souza\", 'गया', 'platesare', 'avilable', 'quoreez', 'gud', 'combo-20', 'oximeter', 'n’t', 'tablat', 'onn', 'itlf', \"two'months\", 'dumble', 'denge', 'गलत', 'worange', 'myprotein', 'vedio', 'fayda', 'hkd-7021645199', '5yr', 'lownex', 'protinix', 'supliment', 'dilivery', 'vidisha', 'xhlo', 'evalo', 'cancle', 'gluco', 'waight', 'gymming', 'sakti', 'rply', 'vytal', 'newzealand', 'new250', 'brach', 'मैंने', 'newdint', 'nahi', 'jnhjkj', 'था', '𝓘', 'gainar', 'mene', 'hlw', 'folodys', 'hie', 'bekar', 'returnable', 'authenticate', 'proquest', 'rha', 'karn', 'onnumey', 'fuckoff', '5:50', 'dumbbell', 'endorance', 'tummy', 'flt10047pnnb', 'ornage', 'bigner', 'questionss', 'vobbi', 'kgs', 'sorjio', 'herbalabs', 'connct', 'deyaled', 'sarir', 'karna', 'protin', 'forbeara', 'acai', 'vitamyzin', 'sceince', 'hlo', 'dilivered', 'phle', 'leya', 'muesli', 'unflavoured', 'nhi', 'nutri', 'fount', 'hoga', 'है', '10mg', 'bacsinse', 'prostar', 'hii', 'uor', '𝓸𝓻𝓭𝓮𝓻', 'bnana', 'nextgen', 'gmate', 'herbalife', 'mtp', 'chahte', 'triocin', 'protine', 'setisfied', 'burkhland', 'producr', 'casein', 'omega-3', 'nonveg', 'irukum', '.so', 'pls', 'nepro', 'nd', 'electrolytes', 'dond', 'softgel', 'cureveda', 'dudle', 'covid', 'rahega', 'detax', 'abhi', 'healthxp', '.is', 'to.take', 'stp1a', 'gyms', 'vit', 'modiyos', 'sukha', 'spery', 'yaa', 'dumbles', 'chahie', 'garcenia', 'durozune', '12:53', ' ', 'whitening', 'burbell', 'aunthentic', 'lasondale', 'sneaker', 'cacel', 'retun', 'pureol', 'cla', 'gya', 'rahega.khichaw', 'खाया', 'whight', 'flaver', 'mushulk', 'hlww', 'amritanay', 'hy', 'hkt-', '4care', 'aava', 'promocode', 'glutamine', 'पिया', 'garcinia', 'crossethon', 'poduct', 'kitne', 'करें', 'worry.it', \":')\", '4095', 'authticity', 'solamatra', ':)', 'mem', 'hyy', 'recieved']\n"
     ]
    }
   ],
   "source": [
    "# OOV words/Domain specific words and Spelling mistakes in test set\n",
    "with open(\"/home/ubuntu/gaurav/.fastai/models/wt103-fwd/itos_wt103.pkl\", \"rb\") as input_file:\n",
    "    wiki_itos = pickle.load(input_file)\n",
    "tok = SpacyTokenizer('en')\n",
    "oov_tokens = []\n",
    "for index, row in df_test.iterrows():\n",
    "    tokens = tok.tokenizer((row['sentence']).lower())\n",
    "    for t in tokens:\n",
    "        if t not in wiki_itos:\n",
    "            oov_tokens.append(t)\n",
    "oov_tokens = list(set(oov_tokens))\n",
    "print(oov_tokens)"
   ]
  },
  {
   "cell_type": "code",
   "execution_count": 15,
   "metadata": {},
   "outputs": [
    {
     "name": "stdout",
     "output_type": "stream",
     "text": [
      "Sir may Apne boodi Ko Mota bnana chahte hai kya khaye Javan de\n",
      "Bhai sneaker sath aava ga\n",
      "Kitne Whieght ka h\n",
      "3 kg ko chahie y\n",
      "Kya muscles repairs k liye creatinine monohydrate sahi rahega.khichaw hi gya hai muscles me\n",
      "Bhai 1000kg. Kitne ka h\n",
      "Weight gain kitne time me kr leta hai\n",
      "Unaku evalo kolupu irukum na ketta onnumey solamatra\n"
     ]
    }
   ],
   "source": [
    "# Few examples of code-mixed sentences in test set\n",
    "hinglish_words = ['kitne', 'gya', 'aava', 'irukum', 'chahie', 'chahte', 'sukha']\n",
    "for index, row in df_test.iterrows():\n",
    "    tokens = tok.tokenizer((row['sentence']).lower())\n",
    "    for t in tokens:\n",
    "        if t in hinglish_words:\n",
    "            print(row['sentence'])\n",
    "            break"
   ]
  },
  {
   "cell_type": "code",
   "execution_count": 16,
   "metadata": {},
   "outputs": [
    {
     "name": "stdout",
     "output_type": "stream",
     "text": [
      "lopi ornage flavour\n",
      "How to check aunthentic or without authentic\n",
      "Is there any authticity mark on products\n",
      "I am 82 years old... I want to buy melatonin 10mg..can you suggest a good producr\n",
      "Ensure diabeti care is avilable\n"
     ]
    }
   ],
   "source": [
    "# Few examples of spelling mistakes in test set\n",
    "spelling_mistakes = ['aunthentic', 'producr', 'ornage', 'avilable', 'authticity']\n",
    "for index, row in df_test.iterrows():\n",
    "    tokens = tok.tokenizer((row['sentence']).lower())\n",
    "    for t in tokens:\n",
    "        if t in spelling_mistakes:\n",
    "            print(row['sentence'])\n",
    "            break"
   ]
  },
  {
   "cell_type": "code",
   "execution_count": 17,
   "metadata": {
    "scrolled": true
   },
   "outputs": [
    {
     "name": "stdout",
     "output_type": "stream",
     "text": [
      "have u started C D provision for pin code 702164\n",
      "Fluoride toothpaste price pls\n",
      "ok , pls call at 7021645199\n",
      "can't u do that\n",
      "Pls tell price of peddlin cycle\n",
      "what u recommend for best multivitamin\n",
      "if the product is open then also u will take it back\n",
      "if ur product is fake will u take it back ?\n",
      "U send to Singapore\n",
      "U r giving pathetic service it was prepaid order only\n",
      "Hii I want to loss weight can u gave me diet plan\n",
      "Hoi sir pls send me Ur address\n",
      "U guys don't deliver in time\n",
      "Pls send address Kolkata retail  store\n",
      "U all are useless\n",
      "Plz order my product\n",
      "Hii...plz recommend me best fat burner product\n",
      "Can u delivered to ramnagar uttarakhand\n",
      "It shows that this product can not be delivered at 7021645199 right now.Plz let me inform when it will be possible. Thank u\n",
      "Can u give me a diet chart, I am 47 years old, no medical problem want to loose fat\n",
      "Plz cancel my all order\n",
      "hlo i want to gain mass can u please help me out\n",
      "U have pureol biotin 10000mcg\n",
      "Do u have bp apparatus?\n",
      "Hi team,my order delivery was not succesful by the delivery partner can u please provide me with the delivery partner number ?\n"
     ]
    }
   ],
   "source": [
    "# Few examples of slangs in test set\n",
    "slang_words = ['ssup', 'lyk', 'kand', 'jst', 'pls', 'wats', 'plz', 'v', 'u']\n",
    "for index, row in df_test.iterrows():\n",
    "    tokens = tok.tokenizer((row['sentence']).lower())\n",
    "    for t in tokens:\n",
    "        if t in slang_words:\n",
    "            print(row['sentence'])\n",
    "            break"
   ]
  },
  {
   "cell_type": "code",
   "execution_count": 19,
   "metadata": {},
   "outputs": [
    {
     "name": "stdout",
     "output_type": "stream",
     "text": [
      "Min no. of tokens:  1\n",
      "Max no. of tokens:  27\n",
      "Avg no. of tokens:  6.29\n",
      "Median of no. of tokens:  6.0\n"
     ]
    }
   ],
   "source": [
    "# variation in length of sentences in train set\n",
    "len_of_tokens = []\n",
    "for index, row in df_train.iterrows():\n",
    "    tokens = tok.tokenizer((row['sentence']).lower())\n",
    "    len_of_tokens.append(len(tokens))\n",
    "print('Min no. of tokens: ', min(len_of_tokens))\n",
    "print('Max no. of tokens: ', max(len_of_tokens))\n",
    "print('Avg no. of tokens: ', mean(len_of_tokens))\n",
    "print('Median of no. of tokens: ', median(len_of_tokens))"
   ]
  },
  {
   "cell_type": "code",
   "execution_count": 20,
   "metadata": {},
   "outputs": [
    {
     "name": "stdout",
     "output_type": "stream",
     "text": [
      "Min no. of tokens:  1\n",
      "Max no. of tokens:  44\n",
      "Avg no. of tokens:  6.4278506559031285\n",
      "Median of no. of tokens:  6\n"
     ]
    }
   ],
   "source": [
    "# variation in length of sentences in test set\n",
    "len_of_tokens = []\n",
    "for index, row in df_test.iterrows():\n",
    "    tokens = tok.tokenizer((row['sentence']).lower())\n",
    "    len_of_tokens.append(len(tokens))\n",
    "print('Min no. of tokens: ', min(len_of_tokens))\n",
    "print('Max no. of tokens: ', max(len_of_tokens))\n",
    "print('Avg no. of tokens: ', mean(len_of_tokens))\n",
    "print('Median of no. of tokens: ', median(len_of_tokens))"
   ]
  },
  {
   "cell_type": "code",
   "execution_count": 21,
   "metadata": {},
   "outputs": [],
   "source": [
    "# are there any queries in other than latin script in train set\n",
    "def is_english(s: str) -> bool:\n",
    "    if len(re.findall(u'[\\u0900-\\u097F]', s)):\n",
    "        return False\n",
    "    return True\n",
    "\n",
    "for index, row in df_train.iterrows():\n",
    "    if not is_english(row['sentence']):\n",
    "        print(row['sentence'])"
   ]
  },
  {
   "cell_type": "code",
   "execution_count": 22,
   "metadata": {},
   "outputs": [
    {
     "name": "stdout",
     "output_type": "stream",
     "text": [
      "क्या आप के पास शीशम रस मिलेगा\n",
      "मैंने ऑनलाइन ऑर्डर किया था उसमें मेरा नंबर गलत हो गया है\n",
      "खाया पिया नहीं लगता क्या करें\n",
      "क्या बोलता भाई\n"
     ]
    }
   ],
   "source": [
    "# are there any queries in other than latin script in test set\n",
    "def is_english(s: str) -> bool:\n",
    "    if len(re.findall(u'[\\u0900-\\u097F]', s)):\n",
    "        return False\n",
    "    return True\n",
    "\n",
    "for index, row in df_test.iterrows():\n",
    "    if not is_english(row['sentence']):\n",
    "        print(row['sentence'])"
   ]
  },
  {
   "cell_type": "code",
   "execution_count": null,
   "metadata": {},
   "outputs": [],
   "source": []
  }
 ],
 "metadata": {
  "kernelspec": {
   "display_name": "in",
   "language": "python",
   "name": "in"
  },
  "language_info": {
   "codemirror_mode": {
    "name": "ipython",
    "version": 3
   },
   "file_extension": ".py",
   "mimetype": "text/x-python",
   "name": "python",
   "nbconvert_exporter": "python",
   "pygments_lexer": "ipython3",
   "version": "3.6.3"
  }
 },
 "nbformat": 4,
 "nbformat_minor": 4
}
